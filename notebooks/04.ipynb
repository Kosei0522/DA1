{
  "cells": [
    {
      "cell_type": "markdown",
      "source": [
        "# 4 データ構造"
      ],
      "metadata": {
        "id": "oa0vdzKHeX1a"
      },
      "id": "oa0vdzKHeX1a"
    },
    {
      "cell_type": "markdown",
      "source": [
        "\n",
        "教科書では，ライブラリを使わずに解決した後で，4.3節でライブラリを使って解決している。\n",
        "\n",
        "ここでは，まずライブラリを使って解決し，その後でライブラリを使わずにデータ構造を実装して解決する。"
      ],
      "metadata": {
        "id": "tDvqfUs-eX1e"
      },
      "id": "tDvqfUs-eX1e"
    },
    {
      "cell_type": "markdown",
      "source": [
        "## 4.1 データ構造とは：問題にチャレンジする前に"
      ],
      "metadata": {
        "id": "rX4toZyIeX1f"
      },
      "id": "rX4toZyIeX1f"
    },
    {
      "cell_type": "markdown",
      "source": [],
      "metadata": {
        "id": "YOdPAAYbeX1g"
      },
      "id": "YOdPAAYbeX1g"
    },
    {
      "cell_type": "markdown",
      "source": [
        "## 4.2 スタック"
      ],
      "metadata": {
        "id": "PlqChImieX1g"
      },
      "id": "PlqChImieX1g"
    },
    {
      "cell_type": "markdown",
      "source": [
        "\n",
        "アルゴリズム図鑑，『独学プログラマー』の第21章\n",
        "\n",
        "後入れ先出し（Last In First Out，LIFO）のデータ構造である。\n",
        "\n",
        "問題：[A51](https://atcoder.jp/contests/tessoku-book/tasks/tessoku_book_ay) (Stack)\n",
        "\n",
        "入力データを作る。"
      ],
      "metadata": {
        "id": "qXOaSjXSeX1g"
      },
      "id": "qXOaSjXSeX1g"
    },
    {
      "cell_type": "code",
      "execution_count": 1,
      "metadata": {
        "id": "bnZcNyJQeX1h",
        "outputId": "18be4bdb-2868-4cd4-c571-1039eec5cacc",
        "colab": {
          "base_uri": "https://localhost:8080/"
        }
      },
      "outputs": [
        {
          "output_type": "stream",
          "name": "stdout",
          "text": [
            "Writing input.dat\n"
          ]
        }
      ],
      "source": [
        "%%writefile input.dat\n",
        "5\n",
        "1 futuremap\n",
        "1 howtospeak\n",
        "2\n",
        "3\n",
        "2"
      ],
      "id": "bnZcNyJQeX1h"
    },
    {
      "cell_type": "markdown",
      "source": [
        "出力データを作る。"
      ],
      "metadata": {
        "id": "66VZXCeieX1i"
      },
      "id": "66VZXCeieX1i"
    },
    {
      "cell_type": "code",
      "execution_count": 2,
      "metadata": {
        "id": "ngTPyiF4eX1j",
        "outputId": "910cd23b-fff8-4143-a8dc-d1992c1726c3",
        "colab": {
          "base_uri": "https://localhost:8080/"
        }
      },
      "outputs": [
        {
          "output_type": "stream",
          "name": "stdout",
          "text": [
            "Writing answer.dat\n"
          ]
        }
      ],
      "source": [
        "%%writefile answer.dat\n",
        "howtospeak\n",
        "futuremap"
      ],
      "id": "ngTPyiF4eX1j"
    },
    {
      "cell_type": "markdown",
      "source": [
        "### ライブラリを使う場合"
      ],
      "metadata": {
        "id": "x5zR_FrqeX1j"
      },
      "id": "x5zR_FrqeX1j"
    },
    {
      "cell_type": "markdown",
      "source": [
        "\n",
        "`collections.deque`を使う。次のようなメソッドがある。\n",
        "\n",
        "| 一般的な呼び方 | `A = deque()` | メモ                   |\n",
        "|----------------|---------------|------------------------|\n",
        "| `push(x)`      | `A.append(x)` | 要素の追加             |\n",
        "| `pop()`        | `A.pop()`     | 最後尾要素の削除と取得 |\n",
        "| `top()`        | `A[-1]`       | 最後尾要素の取得       |\n",
        "\n",
        "コードを書く。"
      ],
      "metadata": {
        "id": "jSS3cJaceX1k"
      },
      "id": "jSS3cJaceX1k"
    },
    {
      "cell_type": "code",
      "execution_count": 5,
      "metadata": {
        "id": "opXbP-PUeX1k",
        "outputId": "4d70fac1-8d75-47c0-8f79-00f0e4732ec1",
        "colab": {
          "base_uri": "https://localhost:8080/"
        }
      },
      "outputs": [
        {
          "output_type": "stream",
          "name": "stdout",
          "text": [
            "Overwriting test.py\n"
          ]
        }
      ],
      "source": [
        "%%writefile test.py\n",
        "n = int(input())\n",
        "\n",
        "from collections import deque\n",
        "stack = deque()\n",
        "\n",
        "for i in range(n):\n",
        "  tmp = input().split()\n",
        "  if tmp[0] == \"1\":\n",
        "    stack.append(tmp[1])\n",
        "  elif tmp[0] == \"2\":\n",
        "    print(stack[-1])\n",
        "  else:\n",
        "    stack.pop()"
      ],
      "id": "opXbP-PUeX1k"
    },
    {
      "cell_type": "markdown",
      "source": [
        "実行する。"
      ],
      "metadata": {
        "id": "wUt2CWMbeX1k"
      },
      "id": "wUt2CWMbeX1k"
    },
    {
      "cell_type": "code",
      "execution_count": 6,
      "metadata": {
        "id": "wedASznAeX1k",
        "outputId": "2e030490-d9d1-4bda-da68-0b71d65c8a6e",
        "colab": {
          "base_uri": "https://localhost:8080/"
        }
      },
      "outputs": [
        {
          "output_type": "stream",
          "name": "stdout",
          "text": [
            "howtospeak\n",
            "futuremap\n"
          ]
        }
      ],
      "source": [
        "!python3 test.py < input.dat"
      ],
      "id": "wedASznAeX1k"
    },
    {
      "cell_type": "markdown",
      "source": [
        "出力例と比較する。"
      ],
      "metadata": {
        "id": "ILOmEveBeX1l"
      },
      "id": "ILOmEveBeX1l"
    },
    {
      "cell_type": "code",
      "execution_count": 7,
      "metadata": {
        "id": "GZI_rJ_ueX1l"
      },
      "outputs": [],
      "source": [
        "!python3 test.py < input.dat > output.dat\n",
        "!diff output.dat answer.dat"
      ],
      "id": "GZI_rJ_ueX1l"
    },
    {
      "cell_type": "markdown",
      "source": [
        "問題がなければ提出する。"
      ],
      "metadata": {
        "id": "o8f9IvoleX1l"
      },
      "id": "o8f9IvoleX1l"
    },
    {
      "cell_type": "markdown",
      "source": [
        "### ライブラリを使わない場合"
      ],
      "metadata": {
        "id": "2H_weAlBeX1l"
      },
      "id": "2H_weAlBeX1l"
    },
    {
      "cell_type": "markdown",
      "source": [
        "\n",
        "教科書p.86「ポイント」を意識して，クラス`Stack`を実装する。ライブラリを使う場合のコードへの変更が最小限になるようにしよう。`stack = deque()`としていたなら，次の変更が必要だろう。\n",
        "\n",
        "-   `Stack`の定義を追加する。\n",
        "-   `stack = deque()`を`stack = Stack()`に変える。\n",
        "-   `stack[-1]`を`stack.top()`に変える。\n",
        "\n",
        "> PythonでクラスStackを作る。データはリストで管理する。公開メソッドはappend，pop，topだけ。topは最後尾要素の取得（削除しない）\n",
        "\n",
        "生成されるコードの例を示す。"
      ],
      "metadata": {
        "id": "3QHbdoD9eX1l"
      },
      "id": "3QHbdoD9eX1l"
    },
    {
      "cell_type": "code",
      "execution_count": null,
      "metadata": {
        "id": "-YqqlnYreX1l"
      },
      "outputs": [],
      "source": [
        "%%writefile Stack.py\n",
        "class Stack:\n",
        "  def __init__(self):\n",
        "    self._data = []\n",
        "\n",
        "  def append(self, value):\n",
        "    self._data.append(value)\n",
        "\n",
        "  def pop(self):\n",
        "    return self._data.pop()\n",
        "\n",
        "  def top(self):\n",
        "    return self._data[-1]"
      ],
      "id": "-YqqlnYreX1l"
    },
    {
      "cell_type": "markdown",
      "source": [
        "ここでもう一度提出する。\n",
        "\n",
        "♠次の問題も，二つの方法（ライブラリを使う方法と使わない方法）で解いてみよう。\n",
        "\n",
        "問題：[ALDS1_3_A](https://onlinejudge.u-aizu.ac.jp/courses/lesson/1/ALDS1/3/ALDS1_3_A) (Stack)\n",
        "\n",
        "参考：[電気通信大学の2025年度入試問題から，大問3 - 数式を処理するプログラムを作る](https://note.com/ipsj/n/n4aed36c58756)"
      ],
      "metadata": {
        "id": "RkkmwA6yeX1m"
      },
      "id": "RkkmwA6yeX1m"
    },
    {
      "cell_type": "markdown",
      "source": [
        "## 4.3 キュー"
      ],
      "metadata": {
        "id": "9Bbood67eX1m"
      },
      "id": "9Bbood67eX1m"
    },
    {
      "cell_type": "markdown",
      "source": [
        "\n",
        "アルゴリズム図鑑，『独学プログラマー』の第21章\n",
        "\n",
        "先入れ先出し（First In First Out，FIFO）のデータ構造である。\n",
        "\n",
        "問題：[A52](https://atcoder.jp/contests/tessoku-book/tasks/tessoku_book_az) (Queue)\n",
        "\n",
        "入力データを作る。"
      ],
      "metadata": {
        "id": "2r9IHlMUeX1m"
      },
      "id": "2r9IHlMUeX1m"
    },
    {
      "cell_type": "code",
      "execution_count": 20,
      "metadata": {
        "id": "yUM6drdAeX1m",
        "outputId": "7f20eb54-82bb-4196-8d66-05de0698a792",
        "colab": {
          "base_uri": "https://localhost:8080/"
        }
      },
      "outputs": [
        {
          "output_type": "stream",
          "name": "stdout",
          "text": [
            "Overwriting input.dat\n"
          ]
        }
      ],
      "source": [
        "%%writefile input.dat\n",
        "5\n",
        "1 taro\n",
        "1 hanako\n",
        "2\n",
        "3\n",
        "2"
      ],
      "id": "yUM6drdAeX1m"
    },
    {
      "cell_type": "markdown",
      "source": [
        "出力データを作る。"
      ],
      "metadata": {
        "id": "Wm4ThpPkeX1m"
      },
      "id": "Wm4ThpPkeX1m"
    },
    {
      "cell_type": "code",
      "execution_count": 21,
      "metadata": {
        "id": "xv0FK6v4eX1n",
        "outputId": "6cce8157-d8c3-4993-914c-129ff970055e",
        "colab": {
          "base_uri": "https://localhost:8080/"
        }
      },
      "outputs": [
        {
          "output_type": "stream",
          "name": "stdout",
          "text": [
            "Overwriting answer.dat\n"
          ]
        }
      ],
      "source": [
        "%%writefile answer.dat\n",
        "taro\n",
        "hanako"
      ],
      "id": "xv0FK6v4eX1n"
    },
    {
      "cell_type": "markdown",
      "source": [
        "### ライブラリを使う場合"
      ],
      "metadata": {
        "id": "9nbqE_BveX1n"
      },
      "id": "9nbqE_BveX1n"
    },
    {
      "cell_type": "markdown",
      "source": [
        "\n",
        "`collections.deque`を使う。次のようなメソッドがある。\n",
        "\n",
        "| 一般的な呼び方 | `A = deque()` | メモ                            |\n",
        "|----------------|---------------|---------------------------------|\n",
        "| `isEmpty()`    | `A`           | 空かどうかを`if A:`で判定する。 |\n",
        "| `enqueue(x)`   | `A.append(x)` | 先頭要素の追加                  |\n",
        "| `dequeue()`    | `A.popleft()` | 先頭要素の削除と取得            |\n",
        "| `front()`      | `A[0]`        | 先頭要素の取得                  |\n",
        "\n",
        "コードを書く。"
      ],
      "metadata": {
        "id": "RmfomDb_eX1n"
      },
      "id": "RmfomDb_eX1n"
    },
    {
      "cell_type": "code",
      "execution_count": 23,
      "metadata": {
        "id": "mRkDjwFAeX1n",
        "outputId": "f17acce1-6c3e-4f08-e362-9ba89509c55c",
        "colab": {
          "base_uri": "https://localhost:8080/"
        }
      },
      "outputs": [
        {
          "output_type": "stream",
          "name": "stdout",
          "text": [
            "Overwriting test2.py\n"
          ]
        }
      ],
      "source": [
        "%%writefile test2.py\n",
        "from collections import deque\n",
        "queue = deque()\n",
        "\n",
        "n = int(input())\n",
        "\n",
        "for i in range(n):\n",
        "  tmp = input().split()\n",
        "  if tmp[0] == \"1\":\n",
        "    queue.append(tmp[1])\n",
        "  elif tmp[0] == \"2\":\n",
        "    print(queue[0])\n",
        "  else:\n",
        "    queue.popleft()"
      ],
      "id": "mRkDjwFAeX1n"
    },
    {
      "cell_type": "markdown",
      "source": [
        "実行する。"
      ],
      "metadata": {
        "id": "k7UmxP-keX1n"
      },
      "id": "k7UmxP-keX1n"
    },
    {
      "cell_type": "code",
      "execution_count": 24,
      "metadata": {
        "id": "hsThwG0VeX1n",
        "outputId": "15e9547e-b13c-4538-c9fe-af2cac657cf6",
        "colab": {
          "base_uri": "https://localhost:8080/"
        }
      },
      "outputs": [
        {
          "output_type": "stream",
          "name": "stdout",
          "text": [
            "taro\n",
            "hanako\n"
          ]
        }
      ],
      "source": [
        "!python3 test2.py < input.dat"
      ],
      "id": "hsThwG0VeX1n"
    },
    {
      "cell_type": "markdown",
      "source": [
        "出力例と比較する。"
      ],
      "metadata": {
        "id": "TgRkRb1YeX1o"
      },
      "id": "TgRkRb1YeX1o"
    },
    {
      "cell_type": "code",
      "execution_count": 25,
      "metadata": {
        "id": "MxeqSMDIeX1o"
      },
      "outputs": [],
      "source": [
        "!python3 test2.py < input.dat > output.dat\n",
        "!diff output.dat answer.dat"
      ],
      "id": "MxeqSMDIeX1o"
    },
    {
      "cell_type": "markdown",
      "source": [
        "問題がなければ提出する。"
      ],
      "metadata": {
        "id": "1YgmkesGeX1o"
      },
      "id": "1YgmkesGeX1o"
    },
    {
      "cell_type": "markdown",
      "source": [
        "### ライブラリを使わない場合"
      ],
      "metadata": {
        "id": "eMX2noBneX1o"
      },
      "id": "eMX2noBneX1o"
    },
    {
      "cell_type": "markdown",
      "source": [
        "\n",
        "クラス`Queue`を実装する。ここでは，教科書4.3節に合わせてリングバッファを使用する。ライブラリを使う場合のコードへの変更が最小限になるようにしよう。`queue = deque()`としていたなら，次の変更が必要だろう。\n",
        "\n",
        "-   `Queue`の定義を追加する。\n",
        "-   `queue = deque()`を`queue = Queue()`に変える。\n",
        "-   `queue[0]`を`queue.front()`に変える。\n",
        "\n",
        "> PythonでクラスQueueを作る。データはリングバッファで管理する。リングバッファの実体はリストで，最大サイズは100000。公開メソッドはisEmpty, append, popleft, frontだけ。frontは先頭要素の取得（削除しない）\n",
        "\n",
        "生成されるコードを修正した例を示す。"
      ],
      "metadata": {
        "id": "KTs7rtxmeX1o"
      },
      "id": "KTs7rtxmeX1o"
    },
    {
      "cell_type": "code",
      "execution_count": null,
      "metadata": {
        "id": "eCn-T04seX1o"
      },
      "outputs": [],
      "source": [
        "%%writefile Queue.py\n",
        "class Queue:\n",
        "  def __init__(self):\n",
        "    self.size = 100000\n",
        "    self.buffer = [None] * self.size\n",
        "    self.head = 0\n",
        "    self.tail = 0\n",
        "    self.count = 0\n",
        "\n",
        "  def isEmpty(self):\n",
        "    return self.count == 0\n",
        "\n",
        "  def append(self, value):\n",
        "    if self.count == self.size: raise OverflowError(\"Queue is full\")\n",
        "    self.buffer[self.tail] = value\n",
        "    self.tail = (self.tail + 1) % self.size\n",
        "    self.count += 1\n",
        "\n",
        "  def popleft(self):\n",
        "    if self.isEmpty(): raise IndexError(\"Queue is empty\")\n",
        "    value = self.buffer[self.head]\n",
        "    self.head = (self.head + 1) % self.size\n",
        "    self.count -= 1\n",
        "    return value\n",
        "\n",
        "  def front(self):\n",
        "    if self.isEmpty(): raise IndexError(\"Queue is empty\")\n",
        "    return self.buffer[self.head]"
      ],
      "id": "eCn-T04seX1o"
    },
    {
      "cell_type": "markdown",
      "source": [
        "♠次の問題も，二つの方法（ライブラリを使う方法と使わない方法）で解いてみよう。\n",
        "\n",
        "問題：[ALDS1_3_B](https://onlinejudge.u-aizu.ac.jp/courses/lesson/1/ALDS1/3/ALDS1_3_B) (Queue)"
      ],
      "metadata": {
        "id": "rjatK_uOeX1p"
      },
      "id": "rjatK_uOeX1p"
    },
    {
      "cell_type": "markdown",
      "source": [
        "## 4.4 連結リスト"
      ],
      "metadata": {
        "id": "Cxq43Mt0eX1p"
      },
      "id": "Cxq43Mt0eX1p"
    },
    {
      "cell_type": "markdown",
      "source": [
        "\n",
        "データ構造でいう**リスト**は「Pythonのリスト」ではない。\n",
        "\n",
        "-   リスト\n",
        "    -   一方向リスト（singly-linked list, one-way list）　アルゴリズム図鑑\n",
        "    -   双方向リスト（doubly-linked list, two-way list）\n",
        "\n",
        "問題：[ALDS1_3_C](https://onlinejudge.u-aizu.ac.jp/courses/lesson/1/ALDS1/3/ALDS1_3_C) (Doubly Linked List)\n",
        "\n",
        "次のようにPythonのリストを使うとTLEになることを確認する。\n",
        "\n",
        "``` python\n",
        "n = int(input())\n",
        "A = []\n",
        "\n",
        "for _ in range(n):\n",
        "  tmp = input().split()\n",
        "  if tmp[0].startswith(\"insert\"): A.insert(0, int(tmp[1]))\n",
        "  elif tmp[0].startswith(\"deleteF\"): A.pop(0)\n",
        "  elif tmp[0].startswith(\"deleteL\"): A.pop()\n",
        "  else: # delete\n",
        "    try: A.remove(int(tmp[1]))\n",
        "    except ValueError: pass\n",
        "\n",
        "print(*A)\n",
        "```"
      ],
      "metadata": {
        "id": "Po__PPlweX1q"
      },
      "id": "Po__PPlweX1q"
    },
    {
      "cell_type": "code",
      "source": [
        "%%writefile input.dat\n",
        "7\n",
        "insert 5\n",
        "insert 2\n",
        "insert 3\n",
        "insert 1\n",
        "delete 3\n",
        "insert 6\n",
        "delete 5"
      ],
      "metadata": {
        "id": "hB6TSpu_vu6R",
        "outputId": "4a03ab15-1fe0-457b-c04c-c85107b30ee6",
        "colab": {
          "base_uri": "https://localhost:8080/"
        }
      },
      "id": "hB6TSpu_vu6R",
      "execution_count": 26,
      "outputs": [
        {
          "output_type": "stream",
          "name": "stdout",
          "text": [
            "Overwriting input.dat\n"
          ]
        }
      ]
    },
    {
      "cell_type": "code",
      "source": [
        "%%writefile answer.dat\n",
        "6 1 2"
      ],
      "metadata": {
        "id": "cMWfdl64v24J",
        "outputId": "4380e721-1ae6-4839-c2cc-9f0e280d287e",
        "colab": {
          "base_uri": "https://localhost:8080/"
        }
      },
      "id": "cMWfdl64v24J",
      "execution_count": 27,
      "outputs": [
        {
          "output_type": "stream",
          "name": "stdout",
          "text": [
            "Overwriting answer.dat\n"
          ]
        }
      ]
    },
    {
      "cell_type": "code",
      "source": [
        "%%writefile test3.py\n",
        "from collections import deque\n",
        "list = deque()\n",
        "\n",
        "n = int(input())\n",
        "\n",
        "for i in range(n):\n",
        "  tmp = input().split()\n",
        "  if tmp[0] == \"insert\":\n",
        "    list.appendleft(tmp[1])\n",
        "  elif tmp[0] == \"deleteFirst\":\n",
        "    list.popleft()\n",
        "  elif tmp[0] == \"deleteLast\":\n",
        "    list.pop()\n",
        "  else:\n",
        "    try: list.remove(tmp[1])\n",
        "    except ValueError: pass\n",
        "\n",
        "print(*list)"
      ],
      "metadata": {
        "id": "6JRE2xxbv6_3",
        "outputId": "e3b552e9-50d9-4343-a817-9da01a9a0fb1",
        "colab": {
          "base_uri": "https://localhost:8080/"
        }
      },
      "id": "6JRE2xxbv6_3",
      "execution_count": 39,
      "outputs": [
        {
          "output_type": "stream",
          "name": "stdout",
          "text": [
            "Overwriting test3.py\n"
          ]
        }
      ]
    },
    {
      "cell_type": "code",
      "source": [
        "!python3 test3.py < input.dat"
      ],
      "metadata": {
        "id": "zYYOXgEExsry",
        "outputId": "e2a4ea16-88d4-4366-a6e2-a9e2bd57c415",
        "colab": {
          "base_uri": "https://localhost:8080/"
        }
      },
      "id": "zYYOXgEExsry",
      "execution_count": 40,
      "outputs": [
        {
          "output_type": "stream",
          "name": "stdout",
          "text": [
            "6 1 2\n"
          ]
        }
      ]
    },
    {
      "cell_type": "code",
      "source": [
        "!python3 test3.py < input.dat > output.dat\n",
        "!diff output.dat answer.dat"
      ],
      "metadata": {
        "id": "OLLWXJypx3FZ"
      },
      "id": "OLLWXJypx3FZ",
      "execution_count": 34,
      "outputs": []
    },
    {
      "cell_type": "markdown",
      "source": [
        "### ライブラリを使う場合"
      ],
      "metadata": {
        "id": "2RXXzpdleX1q"
      },
      "id": "2RXXzpdleX1q"
    },
    {
      "cell_type": "markdown",
      "source": [
        "\n",
        "`collections.deque`を代用する。使用するメソッドは表のとおり。\n",
        "\n",
        "| 教科書         | `A = deque()`     |\n",
        "|----------------|-------------------|\n",
        "| `insert(x)`    | `A.appendleft(x)` |\n",
        "| `deleteKey(x)` | `A.remove(x)`     |\n",
        "| `deleteFirst`  | `A.popleft()`     |\n",
        "| `deleteLast`   | `A.pop()`         |\n",
        "\n",
        "ヒント：`A.remove(x)`は，`x`が`A`に含まれない場合に`ValueError`を発生させる。ここでは，次のようにしてこれを無視する。\n",
        "\n",
        "``` python\n",
        "try: A.remove(x)\n",
        "except ValueError: pass\n",
        "```"
      ],
      "metadata": {
        "id": "kuRKh5zyeX1q"
      },
      "id": "kuRKh5zyeX1q"
    },
    {
      "cell_type": "markdown",
      "source": [
        "### ライブラリを使わない場合"
      ],
      "metadata": {
        "id": "69kAQJc1eX1q"
      },
      "id": "69kAQJc1eX1q"
    },
    {
      "cell_type": "markdown",
      "source": [
        "\n",
        "双方向連結リストのクラス`List`を実装する。ライブラリを使う場合のコードへの変更が最小限になるようにしよう。`A = deque()`としていたなら，次の変更が必要だろう。\n",
        "\n",
        "-   `List`の定義を追加する。\n",
        "-   `A = deque()`を`A = List()`に変える。\n",
        "-   `print(*A)`を`A.print()`に変える。\n",
        "\n",
        "> Pythonで双方向連結リストのクラスListを実装する。リストのノードはクラスNodeのインスタンスで，番兵はnilとする。公開メソッドはappendleft，remove，popleft，pop，printだけ。removeは，リストを先頭から走査して，指定した値をもつ要素で最初に見つかるものを削除する。指定した値をもつ要素が存在しない場合はValueErrorを発生させる。popleftとpopではremoveを使えないことに注意する。printはリストの全要素を空白をはさんで連結した文字列を表示する。\n",
        "\n",
        "生成されるコードを修正した例を示す。"
      ],
      "metadata": {
        "id": "5wHHQh9AeX1q"
      },
      "id": "5wHHQh9AeX1q"
    },
    {
      "cell_type": "code",
      "execution_count": null,
      "metadata": {
        "id": "HTiOq4mfeX1r"
      },
      "outputs": [],
      "source": [
        "%%writefile List.py\n",
        "class Node:\n",
        "  def __init__(self, value=None):\n",
        "    self.value = value  # ノードの値\n",
        "    self.prev = None  # 前のノードへのポインタ\n",
        "    self.next = None  # 次のノードへのポインタ\n",
        "\n",
        "class List:\n",
        "  def __init__(self):\n",
        "    self.nil = Node()  # 番兵ノード（nil）\n",
        "    self.nil.prev = self.nil  # 番兵の前のノードは自分自身\n",
        "    self.nil.next = self.nil  # 番兵の次のノードは自分自身\n",
        "    self.size = 0  # リストのサイズ\n",
        "\n",
        "  def appendleft(self, value):\n",
        "    \"\"\"リストの先頭に要素を追加\"\"\"\n",
        "    new_node = Node(value)\n",
        "    new_node.next = self.nil.next\n",
        "    new_node.prev = self.nil\n",
        "    self.nil.next.prev = new_node\n",
        "    self.nil.next = new_node\n",
        "    self.size += 1\n",
        "\n",
        "  def remove(self, value):\n",
        "    \"\"\"指定した値を持つ最初のノードを削除\"\"\"\n",
        "    current = self.nil.next\n",
        "    while current != self.nil:\n",
        "      if current.value == value:\n",
        "        current.prev.next = current.next\n",
        "        current.next.prev = current.prev\n",
        "        self.size -= 1\n",
        "        return\n",
        "      current = current.next\n",
        "    raise ValueError(f\"{value} not found in list\")\n",
        "\n",
        "  def popleft(self):\n",
        "    \"\"\"リストの先頭の要素を削除して返す\"\"\"\n",
        "    if self.size == 0:\n",
        "      raise IndexError(\"pop from empty list\")\n",
        "\n",
        "    # 先頭のノードを削除\n",
        "    value = self.nil.next.value\n",
        "    self.nil.next = self.nil.next.next\n",
        "    self.nil.next.prev = self.nil\n",
        "    self.size -= 1\n",
        "\n",
        "    return value\n",
        "\n",
        "  def pop(self):\n",
        "    \"\"\"リストの末尾の要素を削除して返す\"\"\"\n",
        "    if self.size == 0:\n",
        "      raise IndexError(\"pop from empty list\")\n",
        "\n",
        "    # 末尾のノードを削除\n",
        "    value = self.nil.prev.value\n",
        "    self.nil.prev = self.nil.prev.prev\n",
        "    self.nil.prev.next = self.nil\n",
        "    self.size -= 1\n",
        "\n",
        "    return value\n",
        "\n",
        "  def print(self):\n",
        "    \"\"\"リストの全要素を空白を挟んで連結した文字列を表示\"\"\"\n",
        "    current = self.nil.next\n",
        "    values = []\n",
        "    while current != self.nil:\n",
        "      values.append(str(current.value))\n",
        "      current = current.next\n",
        "    print(\" \".join(values))"
      ],
      "id": "HTiOq4mfeX1r"
    },
    {
      "cell_type": "markdown",
      "source": [
        "## 宿題"
      ],
      "metadata": {
        "id": "cWsylDUYeX1r"
      },
      "id": "cWsylDUYeX1r"
    },
    {
      "cell_type": "markdown",
      "source": [
        "\n",
        "以下の問題をAC（Accepted）にする。Pythonを使うこと。\n",
        "\n",
        "-   [A51](https://atcoder.jp/contests/tessoku-book/tasks/tessoku_book_ay) (Stack)\n",
        "-   ♠[ALDS1_3_A](https://onlinejudge.u-aizu.ac.jp/courses/lesson/1/ALDS1/3/ALDS1_3_A) (Stack)\n",
        "-   [A52](https://atcoder.jp/contests/tessoku-book/tasks/tessoku_book_az) (Queue)\n",
        "-   ♠[ALDS1_3_B](https://onlinejudge.u-aizu.ac.jp/courses/lesson/1/ALDS1/3/ALDS1_3_B) (Queue)\n",
        "-   [ALDS1_3_C](https://onlinejudge.u-aizu.ac.jp/courses/lesson/1/ALDS1/3/ALDS1_3_C) (Doubly Linked List)\n",
        "-   ♠[ALDS1_3_D](https://onlinejudge.u-aizu.ac.jp/courses/lesson/1/ALDS1/3/ALDS1_3_D) (Areas on the Cross-Section Diagram)\n",
        "\n",
        "以上"
      ],
      "metadata": {
        "id": "oqQGThQReX1r"
      },
      "id": "oqQGThQReX1r"
    }
  ],
  "nbformat": 4,
  "nbformat_minor": 5,
  "metadata": {
    "colab": {
      "provenance": []
    },
    "language_info": {
      "name": "python"
    },
    "kernelspec": {
      "name": "python3",
      "display_name": "Python 3"
    }
  }
}