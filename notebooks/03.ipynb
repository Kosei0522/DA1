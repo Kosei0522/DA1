{
  "cells": [
    {
      "cell_type": "markdown",
      "source": [
        "# 3 初等的整列"
      ],
      "metadata": {
        "id": "eqLZPx4YgyUV"
      },
      "id": "eqLZPx4YgyUV"
    },
    {
      "cell_type": "markdown",
      "source": [
        "\n",
        "-   [ITP1_2_C](https://onlinejudge.u-aizu.ac.jp/courses/lesson/2/ITP1/2/ITP1_2_C) (Sorting Three Numbers)\n",
        "\n",
        "下のコードを見る前に，自分で考えてみる。"
      ],
      "metadata": {
        "id": "UW3ZdTJZgyUa"
      },
      "id": "UW3ZdTJZgyUa"
    },
    {
      "cell_type": "code",
      "execution_count": null,
      "metadata": {
        "id": "hgkGu6bwgyUb"
      },
      "outputs": [],
      "source": [
        "a, b, c = map(int, input().split())\n",
        "if b < a: a, b = b, a\n",
        "if c < a: a, c = c, a\n",
        "if c < b: b, c = c, b\n",
        "print(a, b, c)"
      ],
      "id": "hgkGu6bwgyUb"
    },
    {
      "cell_type": "code",
      "execution_count": null,
      "metadata": {
        "id": "A6DnmmhNgyUc"
      },
      "outputs": [],
      "source": [
        "a, b, c = map(int, input().split())\n",
        "if b < a: a, b = b, a\n",
        "if c < b:\n",
        "  if c < a: a, b, c = c, a, b\n",
        "  else: b, c = c, b\n",
        "print(a, b, c)"
      ],
      "id": "A6DnmmhNgyUc"
    },
    {
      "cell_type": "code",
      "execution_count": null,
      "metadata": {
        "id": "aJjSV8GPgyUd"
      },
      "outputs": [],
      "source": [
        "a, b, c = map(int, input().split())\n",
        "if c < b: b, c = c, b\n",
        "if b < a: a, b = b, a\n",
        "if c < b: b, c = c, b\n",
        "print(a, b, c)"
      ],
      "id": "aJjSV8GPgyUd"
    },
    {
      "cell_type": "code",
      "execution_count": null,
      "metadata": {
        "id": "B3ZEF0AggyUd"
      },
      "outputs": [],
      "source": [
        "A = list(map(int, input().split()))\n",
        "minj = 0\n",
        "if A[1] < A[minj]: minj = 1\n",
        "if A[2] < A[minj]: minj = 2\n",
        "A[0], A[minj] = A[minj], A[0]\n",
        "minj = 1\n",
        "if A[2] < A[minj]: minj = 2\n",
        "A[1], A[minj] = A[minj], A[1]\n",
        "print(*A)"
      ],
      "id": "B3ZEF0AggyUd"
    },
    {
      "cell_type": "markdown",
      "source": [
        "♠39文字以内のコードで解決できるか？"
      ],
      "metadata": {
        "id": "APJKH6IMgyUd"
      },
      "id": "APJKH6IMgyUd"
    },
    {
      "cell_type": "markdown",
      "source": [
        "## 3.1 ソート：問題にチャレンジする前に"
      ],
      "metadata": {
        "id": "qm7oC5NSgyUe"
      },
      "id": "qm7oC5NSgyUe"
    },
    {
      "cell_type": "markdown",
      "source": [
        "\n",
        "ソートについて知っておくべきこと\n",
        "\n",
        "-   ライブラリの使い方（Pythonでは，メソッド`.sort`と関数`sorted`）\n",
        "-   有名なアルゴリズム（簡単なものでは，挿入ソート，バブルソート，選択ソート，シェルソート。第7章に続く）\n",
        "-   有名なアルゴリズムの計算量（最悪の場合，挿入ソート，バブルソート，選択ソートは $O(n^2)$，シェルソートは $O(n^{1.25})$ 程度。第7章に続く）\n",
        "-   安定性（同じ値のデータの順序を保つかどうか）\n",
        "\n",
        "Pythonでのソートの基本"
      ],
      "metadata": {
        "id": "fC_cEl4YgyUe"
      },
      "id": "fC_cEl4YgyUe"
    },
    {
      "cell_type": "code",
      "execution_count": 8,
      "metadata": {
        "id": "a-aAUxudgyUe",
        "outputId": "3b060e8a-e67c-4a21-a160-5093b3491a60",
        "colab": {
          "base_uri": "https://localhost:8080/"
        }
      },
      "outputs": [
        {
          "output_type": "stream",
          "name": "stdout",
          "text": [
            "[1, 1, 2, 3, 3, 4, 5, 5, 6, 9]\n"
          ]
        }
      ],
      "source": [
        "A = [3, 1, 4, 1, 5, 9, 2, 6, 5, 3]\n",
        "A.sort()\n",
        "print(A) # A自体が並べ替えられる"
      ],
      "id": "a-aAUxudgyUe"
    },
    {
      "cell_type": "code",
      "execution_count": 9,
      "metadata": {
        "id": "RLEyq6r-gyUf",
        "outputId": "eb5e979a-27bb-4302-9215-c822d7508921",
        "colab": {
          "base_uri": "https://localhost:8080/"
        }
      },
      "outputs": [
        {
          "output_type": "stream",
          "name": "stdout",
          "text": [
            "[1, 1, 2, 3, 3, 4, 5, 5, 6, 9]\n",
            "[3, 1, 4, 1, 5, 9, 2, 6, 5, 3]\n"
          ]
        }
      ],
      "source": [
        "A = [3, 1, 4, 1, 5, 9, 2, 6, 5, 3]\n",
        "B = sorted(A)\n",
        "print(B)\n",
        "print(A) # Aはそのまま"
      ],
      "id": "RLEyq6r-gyUf"
    },
    {
      "cell_type": "markdown",
      "source": [
        "いずれにしても，ソートは簡単に実現できる。ではなぜソートについて学ぶのか。\n",
        "\n",
        "> プログラミングのほぼ**すべて**の重要な側面がソートや探索の文脈中のどこかに現れているはずだ。（TAOCP Vol. 3「序」）"
      ],
      "metadata": {
        "id": "gyEHzM6JgyUf"
      },
      "id": "gyEHzM6JgyUf"
    },
    {
      "cell_type": "markdown",
      "source": [
        "### 安定性"
      ],
      "metadata": {
        "id": "MMtyr3N5gyUf"
      },
      "id": "MMtyr3N5gyUf"
    },
    {
      "cell_type": "markdown",
      "source": [
        "\n",
        "安定なソート。教科書p.52のデータを一部変えて試す。♠表形式のデータは**データフレーム**という形式で扱うことが多いが，ここでは多次元リストで表現する（後期「データサイエンス演習」）。"
      ],
      "metadata": {
        "id": "OS1xi2EOgyUf"
      },
      "id": "OS1xi2EOgyUf"
    },
    {
      "cell_type": "code",
      "execution_count": 10,
      "metadata": {
        "id": "PVzjckhPgyUg",
        "outputId": "95da1966-4021-4df5-afdf-652371f6c143",
        "colab": {
          "base_uri": "https://localhost:8080/"
        }
      },
      "outputs": [
        {
          "output_type": "execute_result",
          "data": {
            "text/plain": [
              "[['player3', 95, 60],\n",
              " ['player1', 70, 80],\n",
              " ['player2', 90, 80],\n",
              " ['player4', 80, 95]]"
            ]
          },
          "metadata": {},
          "execution_count": 10
        }
      ],
      "source": [
        "data = [[\"player1\", 70, 80],\n",
        "        [\"player2\", 90, 80],\n",
        "        [\"player3\", 95, 60],\n",
        "        [\"player4\", 80, 95]]\n",
        "\n",
        "sorted(data, key=lambda x: x[2])"
      ],
      "id": "PVzjckhPgyUg"
    },
    {
      "cell_type": "markdown",
      "source": [
        "安定でないソート（3.4節 選択ソート）\n",
        "\n",
        "> データをコピーしてから，第3要素で選択ソートでソートする。<br>\n",
        "> （ここにdataを貼り付ける。）\n",
        "\n",
        "生成されるコードを修正した例を示す。"
      ],
      "metadata": {
        "id": "4LPGG20mgyUg"
      },
      "id": "4LPGG20mgyUg"
    },
    {
      "cell_type": "code",
      "execution_count": null,
      "metadata": {
        "id": "uqh-20A9gyUg"
      },
      "outputs": [],
      "source": [
        "%%writefile unstable_sort.py\n",
        "data = [[\"player1\", 70, 80],\n",
        "        [\"player2\", 90, 80],\n",
        "        [\"player3\", 95, 60],\n",
        "        [\"player4\", 80, 95]]\n",
        "\n",
        "import copy\n",
        "\n",
        "# データをコピー\n",
        "sorted_data = copy.deepcopy(data)\n",
        "\n",
        "# 選択ソートの実装（第3要素でソート）\n",
        "n = len(sorted_data)\n",
        "for i in range(n - 1):\n",
        "    min_index = i\n",
        "    for j in range(i + 1, n):\n",
        "        if sorted_data[j][2] < sorted_data[min_index][2]:  # 第3要素（インデックス2）で比較\n",
        "            min_index = j\n",
        "    # 最小値の要素を交換\n",
        "    sorted_data[i], sorted_data[min_index] = sorted_data[min_index], sorted_data[i]\n",
        "\n",
        "sorted_data"
      ],
      "id": "uqh-20A9gyUg"
    },
    {
      "cell_type": "markdown",
      "source": [
        "### in-place性"
      ],
      "metadata": {
        "id": "L5SnQU9DgyUg"
      },
      "id": "L5SnQU9DgyUg"
    },
    {
      "cell_type": "markdown",
      "source": [
        "\n",
        "元のデータを書き替えるものをin-placeという。\n",
        "\n",
        "-   メソッド`sort`はin-placeである。元のリストを並べ替える。\n",
        "-   関数`sorted`：はin-placeではない。元のリストはそのままで，新しいリストを作る。"
      ],
      "metadata": {
        "id": "v2L2nW0CgyUg"
      },
      "id": "v2L2nW0CgyUg"
    },
    {
      "cell_type": "code",
      "execution_count": 11,
      "metadata": {
        "id": "FUGQ8SrxgyUh",
        "outputId": "2164b4e8-c8d5-434c-b193-3453a231a08c",
        "colab": {
          "base_uri": "https://localhost:8080/"
        }
      },
      "outputs": [
        {
          "output_type": "stream",
          "name": "stdout",
          "text": [
            "[1, 1, 2, 3, 3, 4, 5, 5, 6, 9]\n"
          ]
        }
      ],
      "source": [
        "A = [3, 1, 4, 1, 5, 9, 2, 6, 5, 3]\n",
        "A.sort()\n",
        "print(A) # A自体が並べ替えられる"
      ],
      "id": "FUGQ8SrxgyUh"
    },
    {
      "cell_type": "code",
      "execution_count": 12,
      "metadata": {
        "id": "GoQIqgPfgyUh",
        "outputId": "2ef68380-c0c7-4b9d-d8d6-24bbc5a392c6",
        "colab": {
          "base_uri": "https://localhost:8080/"
        }
      },
      "outputs": [
        {
          "output_type": "stream",
          "name": "stdout",
          "text": [
            "[1, 1, 2, 3, 3, 4, 5, 5, 6, 9]\n",
            "[3, 1, 4, 1, 5, 9, 2, 6, 5, 3]\n"
          ]
        }
      ],
      "source": [
        "A = [3, 1, 4, 1, 5, 9, 2, 6, 5, 3]\n",
        "B = sorted(A) # Aを並べ替えて新しいリストBを作る。\n",
        "print(B)\n",
        "print(A) # Aはそのまま"
      ],
      "id": "GoQIqgPfgyUh"
    },
    {
      "cell_type": "markdown",
      "source": [
        "## ナイーブなソート"
      ],
      "metadata": {
        "id": "UWdWTJTpgyUh"
      },
      "id": "UWdWTJTpgyUh"
    },
    {
      "cell_type": "code",
      "execution_count": 13,
      "metadata": {
        "id": "A2mjiU13gyUh"
      },
      "outputs": [],
      "source": [
        "def simple_sort(A):\n",
        "  n = len(A)\n",
        "  for i in range(n - 1):\n",
        "    for j in range(i + 1, n):\n",
        "      if A[i] > A[j]:\n",
        "        A[i], A[j] = A[j], A[i]"
      ],
      "id": "A2mjiU13gyUh"
    },
    {
      "cell_type": "markdown",
      "source": [
        "このアルゴリズムについて，二つの点を考える。\n",
        "\n",
        "-   正当性：アルゴリズムは正しいのか？\n",
        "-   アルゴリズム解析：アルゴリズムは速いのか？"
      ],
      "metadata": {
        "id": "VqPCKF1YgyUh"
      },
      "id": "VqPCKF1YgyUh"
    },
    {
      "cell_type": "markdown",
      "source": [
        "### 正当性"
      ],
      "metadata": {
        "id": "v16UUoVVgyUh"
      },
      "id": "v16UUoVVgyUh"
    },
    {
      "cell_type": "markdown",
      "source": [
        "\n",
        "アルゴリズムの正しさをどう納得するか。\n",
        "\n",
        "-   テスト（確実ではないが，比較的簡単）\n",
        "-   ♠証明（確実だが，比較的難しい）"
      ],
      "metadata": {
        "id": "f6YUtgIlgyUi"
      },
      "id": "f6YUtgIlgyUi"
    },
    {
      "cell_type": "markdown",
      "source": [
        "#### テスト"
      ],
      "metadata": {
        "id": "XGgCgFyygyUi"
      },
      "id": "XGgCgFyygyUi"
    },
    {
      "cell_type": "markdown",
      "source": [
        "\n",
        "これでソートできることを確認する。"
      ],
      "metadata": {
        "id": "KopfNO4MgyUi"
      },
      "id": "KopfNO4MgyUi"
    },
    {
      "cell_type": "code",
      "execution_count": 15,
      "metadata": {
        "id": "cLbVXDOCgyUi"
      },
      "outputs": [],
      "source": [
        "A = [10, 20, 55, 4, 15, 12]\n",
        "simple_sort(A)\n",
        "\n",
        "for i in range(len(A) - 1):\n",
        "  if A[i] > A[i + 1]:\n",
        "    print(\"Error\")"
      ],
      "id": "cLbVXDOCgyUi"
    },
    {
      "cell_type": "markdown",
      "source": [
        "テストにパスしたのは，たまたま正しい結果が出るデータを入力したからかもしれないことに注意。"
      ],
      "metadata": {
        "id": "fZRlfBWjgyUi"
      },
      "id": "fZRlfBWjgyUi"
    },
    {
      "cell_type": "markdown",
      "source": [
        "#### ♠証明"
      ],
      "metadata": {
        "id": "1RlbFdwJgyUi"
      },
      "id": "1RlbFdwJgyUi"
    },
    {
      "cell_type": "markdown",
      "source": [
        "\n",
        "証明方法：ループ不変条件（ループの前後で常に成り立つ条件）を数学的帰納法で証明する。\n",
        "\n",
        "`simple_sort`のループ不変条件：外側の $i$ のループの開始時点で，$A[0]<\\ldots<A[i-1]$，かつ，$A[i-1], \\ldots, A[n-1]$ では $A[i-1]$ が最小である。\n",
        "\n",
        "この条件が常に成立することを数学的帰納法で証明すればよい。\n",
        "\n",
        "AIが証明してくれるかもしれないが，それっぽいでたらめを出してくる危険もある。\n",
        "\n",
        "> このソートの正当性をループ不変条件を設定して証明して<br/>\n",
        "> （ここに関数を貼り付ける。）"
      ],
      "metadata": {
        "id": "KT-_rg_ugyUi"
      },
      "id": "KT-_rg_ugyUi"
    },
    {
      "cell_type": "markdown",
      "source": [
        "### アルゴリズム解析"
      ],
      "metadata": {
        "id": "C0hNmppfgyUi"
      },
      "id": "C0hNmppfgyUi"
    },
    {
      "cell_type": "markdown",
      "source": [
        "\n",
        "アルゴリズムの性能をどう調査するか。\n",
        "\n",
        "-   時間計算量\n",
        "-   空間計算量\n",
        "\n",
        "ここでは時間計算量を調べる。\n",
        "\n",
        "| 行  | 命令                      | コスト | RAMモデルでのおおよその実行回数                       |\n",
        "|------------------|------------------|------------------|------------------|\n",
        "| 1   | `n = len(A)`              | $c_1$  | $1$                                                   |\n",
        "| 2   | `for i in range(n-1):`    | $c_2$  | $n-1$                                                 |\n",
        "| 3   | `for j in range(i, n):`   | $c_3$  | $\\displaystyle\\sum_{i=0}^{n-2}(n-i)=\\frac{(n-1)n}{2}$ |\n",
        "| 4   | `if A[i] > A[j]:`         | $c_4$  | $\\displaystyle\\sum_{i=0}^{n-2}(n-i)=\\frac{(n-1)n}{2}$ |\n",
        "| 5   | `A[i], A[j] = A[j], A[i]` | $c_5$  | $\\displaystyle\\sum_{i=0}^{n-2}t_i$                    |\n",
        "\n",
        "最良（実行時間が最短）なのは，対象のデータが昇順にソートされている場合で，5行目は1回も実行されない。よって，実行時間は $c_1+c_2(n-1)+(c_3+c_4)\\frac{(n-1)n}{2}=O(n^2)$ である。\n",
        "\n",
        "最悪（実行時間が最長）なのは，対象のデータが降順にソートされている場合で，$t_i=n-i$ だから，5行目は $\\sum_{i=0}^{n-2}(n-i)=\\frac{(n-1)n}{2}$ 回実行される。よって，実行時間は $c_1+c_2(n-1)+(c_3+c_4+c_5)\\frac{(n-1)n}{2}=O(n^2)$ である。\n",
        "\n",
        "結局，このナイーブなソートの計算量は $O(n^2)$ である（$\\Theta(n^2)$ でもある）。"
      ],
      "metadata": {
        "id": "4GcCmmBggyUj"
      },
      "id": "4GcCmmBggyUj"
    },
    {
      "cell_type": "markdown",
      "source": [
        "## 3.2 挿入ソート"
      ],
      "metadata": {
        "id": "GJIQQOvMgyUj"
      },
      "id": "GJIQQOvMgyUj"
    },
    {
      "cell_type": "markdown",
      "source": [
        "\n",
        "アルゴリズム図鑑（無料版）\n",
        "\n",
        "問題：[ALDS1_1_A](https://onlinejudge.u-aizu.ac.jp/courses/lesson/1/ALDS1/1/ALDS1_1_A) (Insertion Sort)\n",
        "\n",
        "♠「挿入ソートはある程度整列されたデータに対しては高速に動作する特長を持ちます（教科書p.58）」を確かめる。\n",
        "\n",
        "♠正当性：CLRS 2.1節を参照。\n",
        "\n",
        "時間計算量：最良の場合の時間計算量は $O(n)$，最悪の場合の時間計算量は $O(n^2)$ である（参照：教科書p.58，CLRS 2.2節）。"
      ],
      "metadata": {
        "id": "RVkQODE8gyUj"
      },
      "id": "RVkQODE8gyUj"
    },
    {
      "cell_type": "code",
      "source": [
        "%%writefile input1.dat\n",
        "6\n",
        "5 2 4 6 1 3"
      ],
      "metadata": {
        "id": "3m9nhnAIquEc",
        "outputId": "3d069cfa-0767-4b07-fdce-3df877489e99",
        "colab": {
          "base_uri": "https://localhost:8080/"
        }
      },
      "id": "3m9nhnAIquEc",
      "execution_count": 16,
      "outputs": [
        {
          "output_type": "stream",
          "name": "stdout",
          "text": [
            "Writing input1.dat\n"
          ]
        }
      ]
    },
    {
      "cell_type": "code",
      "source": [
        "1 insertionSort(A, N) // N個の要素を含む0-オリジンの配列A\n",
        "2   for i が 1 から N-1 まで\n",
        "3     v = A[i]\n",
        "4     j = i - 1\n",
        "5     while j >= 0 かつ A[j] > v\n",
        "6       A[j+1] = A[j]\n",
        "7       j--\n",
        "8     A[j+1] = v"
      ],
      "metadata": {
        "id": "bk0PtXUrq_Qq"
      },
      "id": "bk0PtXUrq_Qq",
      "execution_count": null,
      "outputs": []
    },
    {
      "cell_type": "code",
      "source": [
        "%%writefile test.py\n",
        "def insertionSort(A,N):\n",
        "  for i in range(1,N):\n",
        "    print(*A)\n",
        "    v = A[i]\n",
        "    j = i - 1\n",
        "    while j >= 0 and A[j] > v:\n",
        "      A[j+1] = A[j]\n",
        "      j -= 1\n",
        "    A[j+1] = v\n",
        "\n",
        "N = int(input())\n",
        "A = list(map(int,input().split()))\n",
        "\n",
        "insertionSort(A,N)\n",
        "print(*A)"
      ],
      "metadata": {
        "id": "poYIUHgHq48s",
        "outputId": "8633f625-3b74-4377-c17b-99c406f3bb47",
        "colab": {
          "base_uri": "https://localhost:8080/"
        }
      },
      "id": "poYIUHgHq48s",
      "execution_count": 30,
      "outputs": [
        {
          "output_type": "stream",
          "name": "stdout",
          "text": [
            "Overwriting test.py\n"
          ]
        }
      ]
    },
    {
      "cell_type": "code",
      "source": [
        "!python3 test.py < input1.dat"
      ],
      "metadata": {
        "id": "o04Avm2trwr_",
        "outputId": "de34f9cd-b9fd-4b9b-c258-b26f41e581c5",
        "colab": {
          "base_uri": "https://localhost:8080/"
        }
      },
      "id": "o04Avm2trwr_",
      "execution_count": 31,
      "outputs": [
        {
          "output_type": "stream",
          "name": "stdout",
          "text": [
            "5 2 4 6 1 3\n",
            "2 5 4 6 1 3\n",
            "2 4 5 6 1 3\n",
            "2 4 5 6 1 3\n",
            "1 2 4 5 6 3\n",
            "1 2 3 4 5 6\n"
          ]
        }
      ]
    },
    {
      "cell_type": "markdown",
      "source": [
        "## 3.3 バブルソート"
      ],
      "metadata": {
        "id": "B7NyoGlYgyUj"
      },
      "id": "B7NyoGlYgyUj"
    },
    {
      "cell_type": "code",
      "source": [
        "1 bubbleSort(A, N) // N 個の要素を含む 0-オリジンの配列 A\n",
        "2   flag = 1 // 逆の隣接要素が存在する\n",
        "3   while flag\n",
        "4     flag = 0\n",
        "5     for j が N-1 から 1 まで\n",
        "6       if A[j] < A[j-1]\n",
        "7         A[j] と A[j-1] を交換\n",
        "8         flag = 1"
      ],
      "metadata": {
        "id": "NCbWJNsit3PF"
      },
      "id": "NCbWJNsit3PF",
      "execution_count": null,
      "outputs": []
    },
    {
      "cell_type": "code",
      "source": [
        "%%writefile input2.dat\n",
        "5\n",
        "5 3 2 4 1"
      ],
      "metadata": {
        "id": "2Jlj04fdt2R0",
        "outputId": "d1a8a044-5ba5-421e-9b1c-c79c35c16412",
        "colab": {
          "base_uri": "https://localhost:8080/"
        }
      },
      "id": "2Jlj04fdt2R0",
      "execution_count": 32,
      "outputs": [
        {
          "output_type": "stream",
          "name": "stdout",
          "text": [
            "Writing input2.dat\n"
          ]
        }
      ]
    },
    {
      "cell_type": "code",
      "source": [
        "%%writefile test2.py\n",
        "def bubbleSort(A,N):\n",
        "  flag = True\n",
        "  wa = 0\n",
        "  while flag:\n",
        "    flag = False\n",
        "    for j in range(N-1,0,-1):\n",
        "      if A[j] < A[j-1]:\n",
        "        A[j],A[j-1] = A[j-1],A[j]\n",
        "        flag = True\n",
        "        wa += 1\n",
        "  print(*A)\n",
        "  print(wa)\n",
        "\n",
        "N = int(input())\n",
        "A = list(map(int,input().split()))\n",
        "\n",
        "bubbleSort(A,N)"
      ],
      "metadata": {
        "id": "YyLzkZMLuBGu",
        "outputId": "ec3ed618-afec-4a14-c2a1-084be780fa84",
        "colab": {
          "base_uri": "https://localhost:8080/"
        }
      },
      "id": "YyLzkZMLuBGu",
      "execution_count": 47,
      "outputs": [
        {
          "output_type": "stream",
          "name": "stdout",
          "text": [
            "Overwriting test2.py\n"
          ]
        }
      ]
    },
    {
      "cell_type": "code",
      "source": [
        "!python3 test2.py < input2.dat"
      ],
      "metadata": {
        "id": "gRXrQYBRu1aD",
        "outputId": "5f27c726-2b7a-4d75-b9e1-6049dcb9160a",
        "colab": {
          "base_uri": "https://localhost:8080/"
        }
      },
      "id": "gRXrQYBRu1aD",
      "execution_count": 48,
      "outputs": [
        {
          "output_type": "stream",
          "name": "stdout",
          "text": [
            "1 2 3 4 5\n",
            "8\n"
          ]
        }
      ]
    },
    {
      "cell_type": "markdown",
      "source": [
        "\n",
        "<iframe width=\"560\" height=\"315\" src=\"https://www.youtube.com/embed/k4RRi_ntQc8?si=1FCkVkdsA6ktzjP8&amp;start=34\" title=\"YouTube video player\" frameborder=\"0\" allow=\"accelerometer; autoplay; clipboard-write; encrypted-media; gyroscope; picture-in-picture; web-share\" referrerpolicy=\"strict-origin-when-cross-origin\" allowfullscreen>\n",
        "</iframe>\n",
        "\n",
        "参照：[Obama on sorting 1M integers: Bubble sort the wrong way to go](https://www.righto.com/2012/11/obama-on-sorting-1m-integers-bubble.html)\n",
        "\n",
        "アルゴリズム図鑑（無料版）\n",
        "\n",
        "問題：[ALDS1_2_A](https://onlinejudge.u-aizu.ac.jp/courses/lesson/1/ALDS1/2/ALDS1_2_A) (Bubble Sort)\n",
        "\n",
        "♠`flag`の効果を調べる。\n",
        "\n",
        "♠7.3節で扱うクイックソートとバブルソートの性能を比較してみよう。クイックソートは速いと言うが，データが少ない場合は，あまり変わらない。\n",
        "\n",
        "> Pythonでバブルソートとクイックソートを実装して性能を比較する。「サイズnのランダムなリストのソートを1000回ずつ実行する」のにかかる時間を計る。nは5, 10, 15, …, 50とする。正しくソートできているかどうかを，sorted()を使って確認するようにして。\n",
        "\n",
        "生成されるコードを修正した例を示す。"
      ],
      "metadata": {
        "id": "GEhIAModgyUk"
      },
      "id": "GEhIAModgyUk"
    },
    {
      "cell_type": "code",
      "execution_count": null,
      "metadata": {
        "id": "R7zUrvUUgyUk"
      },
      "outputs": [],
      "source": [
        "import time\n",
        "import random\n",
        "import matplotlib.pyplot as plt\n",
        "\n",
        "def bubble_sort(arr):\n",
        "    n = len(arr)\n",
        "    flag = True\n",
        "    while flag:\n",
        "        flag = False\n",
        "        for j in range(n-1, 0, -1):\n",
        "            if arr[j] < arr[j-1]:\n",
        "                arr[j], arr[j-1] = arr[j-1], arr[j]\n",
        "                flag = True\n",
        "    return arr\n",
        "\n",
        "def quick_sort(arr):\n",
        "    if len(arr) <= 1:\n",
        "        return arr\n",
        "    pivot = arr[len(arr) // 2]\n",
        "    left = [x for x in arr if x < pivot]\n",
        "    middle = [x for x in arr if x == pivot]\n",
        "    right = [x for x in arr if x > pivot]\n",
        "    return quick_sort(left) + middle + quick_sort(right)\n",
        "\n",
        "def measure_time(sort_func, n, iterations=1000):\n",
        "    total_time = 0\n",
        "    for _ in range(iterations):\n",
        "        arr = [random.randint(0, 1000) for _ in range(n)]\n",
        "        arr_copy = arr.copy()\n",
        "        start_time = time.time()\n",
        "        arr = sort_func(arr)\n",
        "        if arr != sorted(arr_copy):\n",
        "            raise ValueError(\"Sorting failed\")\n",
        "        total_time += time.time() - start_time\n",
        "    return total_time\n",
        "\n",
        "sizes = list(range(5, 101, 5))\n",
        "algorithm1_times = []\n",
        "algorithm2_times = []\n",
        "\n",
        "for n in sizes:\n",
        "    print(f\"Measuring for n={n}...\")\n",
        "    algorithm1_times.append(measure_time(bubble_sort, n))\n",
        "    algorithm2_times.append(measure_time(quick_sort, n))\n",
        "\n",
        "plt.plot(sizes, algorithm1_times, label='algorithm 1')\n",
        "plt.plot(sizes, algorithm2_times, label='algorithm 2')\n",
        "plt.xlabel('List Size (n)')\n",
        "plt.ylabel('Total Time (seconds)')\n",
        "plt.title('Performance Comparison')\n",
        "plt.legend()\n",
        "plt.show()"
      ],
      "id": "R7zUrvUUgyUk"
    },
    {
      "cell_type": "markdown",
      "source": [
        "## 3.4 選択ソート"
      ],
      "metadata": {
        "id": "U6klPmJ5gyUu"
      },
      "id": "U6klPmJ5gyUu"
    },
    {
      "cell_type": "markdown",
      "source": [
        "\n",
        "アルゴリズム図鑑（無料版）\n",
        "\n",
        "教科書p.65の擬似コードは次のように修正してよい。\n",
        "\n",
        "    1 selectionSort(A, N) // N個の要素を含む0-オリジンの配列A\n",
        "    2   for i が 0 から N-2 まで\n",
        "    3     minj = i\n",
        "    4     for j が i+1 から N-1 まで\n",
        "    5       if A[j] < A[minj]\n",
        "    6         minj = j\n",
        "    7     A[i] と A[minj] を交換\n",
        "\n",
        "問題：[ALDS1_2_B](https://onlinejudge.u-aizu.ac.jp/courses/lesson/1/ALDS1/2/ALDS1_2_B) (Selection Sort)\n",
        "\n",
        "♠「flagを用いない単純なバブルソートと選択ソートは，データに依存しない比較演算を行いますが，挿入ソートはデータに依存する挙動をし，高速になる場合があります。（教科書p.68）」\n",
        "\n",
        "正当性と時間計算量：時間計算量は$O(n^2)$（$\\Theta(n^2)$ でもある）。CLRSの練習問題 2.2-2を参照。"
      ],
      "metadata": {
        "id": "tasdW_3IgyUu"
      },
      "id": "tasdW_3IgyUu"
    },
    {
      "cell_type": "markdown",
      "source": [
        "## ♠3.5 安定なソート"
      ],
      "metadata": {
        "id": "2nqXCySngyUu"
      },
      "id": "2nqXCySngyUu"
    },
    {
      "cell_type": "markdown",
      "source": [
        "\n",
        "問題：[ALDS1_2_C](https://onlinejudge.u-aizu.ac.jp/courses/lesson/1/ALDS1/2/ALDS1_2_C) (Stable Sort)\n",
        "\n",
        "valueはrankというのが一般的かもしれないが・・・\n",
        "\n",
        "> suitとvalueを持つクラスCardをPythonで作る。インスタンスは長さ2の文字列で初期化する。1文字目がsuit，2文字目を整数に変換した結果がvalueである。例えばCard(“H4”)は，suitがH，valueが4のインスタンスである。"
      ],
      "metadata": {
        "id": "Tp1B-l_SgyUu"
      },
      "id": "Tp1B-l_SgyUu"
    },
    {
      "cell_type": "code",
      "execution_count": null,
      "metadata": {
        "id": "dJbXAnlCgyUu"
      },
      "outputs": [],
      "source": [
        "%%writefile card.py\n",
        "class Card:\n",
        "    def __init__(self, s):\n",
        "        self.suit = s[0]\n",
        "        self.value = int(s[1])\n",
        "\n",
        "    def __repr__(self):\n",
        "        return self.suit + str(self.value)"
      ],
      "id": "dJbXAnlCgyUu"
    },
    {
      "cell_type": "markdown",
      "source": [
        "## ♠3.6 シェルソート"
      ],
      "metadata": {
        "id": "Q3-W5SYYgyUv"
      },
      "id": "Q3-W5SYYgyUv"
    },
    {
      "cell_type": "markdown",
      "source": [
        "\n",
        "Donald L. Shellが1959年に提案したソートアルゴリズムである。\n",
        "\n",
        "問題：[ALDS1_2_D](https://onlinejudge.u-aizu.ac.jp/courses/lesson/1/ALDS1/2/ALDS1_2_D) (Shell Sort)\n",
        "\n",
        "ヒント：教科書p.77のgを使えばよい。TAOCP 5.2.1項によると，$$g_0=1,\\;g_{i+1}=3g_i+1\\;\\text{とし，}g_{t+1}>N\\;\\text{になったら，}g_{t-1}\\;\\text{で終わりにする。}$$gがnより大きくなってもプログラムは動くが，オンラインジャッジは通らない。\n",
        "\n",
        "前に扱った挿入ソート（教科書p.54）と，ここで使う挿入ソート（同p.74）を比較する。\n",
        "\n",
        "    1 insertionSort(A, N) // N個の要素を含む0-オリジンの配列A\n",
        "    2   for i が 1 から N-1 まで\n",
        "    3     v = A[i]\n",
        "    4     j = i - 1\n",
        "    5     while j >= 0 かつ A[j] > v\n",
        "    6       A[j+1] = A[j]\n",
        "    7       j--\n",
        "    8     A[j+1] = v\n",
        "\n",
        "    1 insertionSort(A, n, g)\n",
        "    2     for i = g to n-1\n",
        "    3         v = A[i]\n",
        "    4         j = i - g\n",
        "    5         while j >= 0 && A[j] > v\n",
        "    6             A[j+g] = A[j]\n",
        "    7             j = j - g\n",
        "    8             cnt++\n",
        "    9         A[j+g] = v\n",
        "\n",
        "**練習**：どのような違いがあるか，まとめてみよう。\n",
        "\n",
        "-   `cnt`で値の交換回数を数えている。♠教科書p.74の擬似コードを最小限の変更で実装しようとすると，`cnt`はグローバル変数になる。グローバル変数はあまり使いたくないのだが，ここではそれでよい。\n",
        "-   （自分で考える）\n",
        "\n",
        "♠バブルソートとクイックソートを比べる先の実験と同じようにして，シェルソートとクイックソートを比べてみよう。"
      ],
      "metadata": {
        "id": "aE9MxbJQgyUv"
      },
      "id": "aE9MxbJQgyUv"
    },
    {
      "cell_type": "markdown",
      "source": [
        "## ♠おまけ"
      ],
      "metadata": {
        "id": "2IjxPJ-jgyUv"
      },
      "id": "2IjxPJ-jgyUv"
    },
    {
      "cell_type": "markdown",
      "source": [
        "\n",
        "要素数100くらいで使う場合，次のソートは，挿入ソートより遅いが，バブルソートより速いことを確かめてみよう。\n",
        "\n",
        "    def fung_sort(A):\n",
        "      n = len(A)\n",
        "      for i in range(n):\n",
        "        for j in range(n):\n",
        "          if A[i] < A[j]:\n",
        "            A[i], A[j] = A[j], A[i]\n",
        "\n",
        "出典：[Stanley P. Y. Fung. Is this the simplest (and most surprising) sorting algorithm ever?](https://arxiv.org/abs/2110.01111)\n",
        "\n",
        "参照：https://github.com/E869120/math-algorithm-book/blob/main/editorial/chap3-6/chap3-6.pdf"
      ],
      "metadata": {
        "id": "ltgldv9lgyUv"
      },
      "id": "ltgldv9lgyUv"
    },
    {
      "cell_type": "markdown",
      "source": [
        "## 宿題"
      ],
      "metadata": {
        "id": "GrrHxBzZgyUv"
      },
      "id": "GrrHxBzZgyUv"
    },
    {
      "cell_type": "markdown",
      "source": [
        "\n",
        "以下の問題をAC（Accepted）にする。Pythonを使うこと。\n",
        "\n",
        "-   [ITP1_2_C](https://onlinejudge.u-aizu.ac.jp/courses/lesson/2/ITP1/2/ITP1_2_C) (Sorting Three Numbers)\n",
        "-   [ALDS1_1_A](https://onlinejudge.u-aizu.ac.jp/courses/lesson/1/ALDS1/1/ALDS1_1_A) (Insertion Sort)\n",
        "-   [ALDS1_2_A](https://onlinejudge.u-aizu.ac.jp/courses/lesson/1/ALDS1/2/ALDS1_2_A) (Bubble Sort)\n",
        "-   [ALDS1_2_B](https://onlinejudge.u-aizu.ac.jp/courses/lesson/1/ALDS1/2/ALDS1_2_B) (Selection Sort)\n",
        "-   ♠[ALDS1_2_C](https://onlinejudge.u-aizu.ac.jp/courses/lesson/1/ALDS1/2/ALDS1_2_C) (Stable Sort)\n",
        "-   ♠[ALDS1_2_D](https://onlinejudge.u-aizu.ac.jp/courses/lesson/1/ALDS1/2/ALDS1_2_D) (Shell Sort)\n",
        "\n",
        "以上"
      ],
      "metadata": {
        "id": "eYQpKBvYgyUw"
      },
      "id": "eYQpKBvYgyUw"
    }
  ],
  "nbformat": 4,
  "nbformat_minor": 5,
  "metadata": {
    "colab": {
      "provenance": []
    },
    "language_info": {
      "name": "python"
    },
    "kernelspec": {
      "name": "python3",
      "display_name": "Python 3"
    }
  }
}